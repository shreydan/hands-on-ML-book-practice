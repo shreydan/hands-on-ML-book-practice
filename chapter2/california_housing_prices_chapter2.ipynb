{
  "nbformat": 4,
  "nbformat_minor": 0,
  "metadata": {
    "colab": {
      "name": "california-housing-prices--chapter2.ipynb",
      "provenance": [],
      "authorship_tag": "ABX9TyMj8KyFQiY1asr/jI52Bopp"
    },
    "kernelspec": {
      "name": "python3",
      "display_name": "Python 3"
    },
    "language_info": {
      "name": "python"
    }
  },
  "cells": [
    {
      "cell_type": "code",
      "metadata": {
        "id": "F2fGZrPoHJl2"
      },
      "source": [
        ""
      ],
      "execution_count": null,
      "outputs": []
    }
  ]
}