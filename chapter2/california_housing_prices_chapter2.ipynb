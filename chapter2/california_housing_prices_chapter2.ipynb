{
  "nbformat": 4,
  "nbformat_minor": 0,
  "metadata": {
    "colab": {
      "name": "california-housing-prices--chapter2.ipynb",
      "provenance": [],
      "collapsed_sections": [],
      "authorship_tag": "ABX9TyOLszwGbFsre1egyc2UO56T",
      "include_colab_link": true
    },
    "kernelspec": {
      "name": "python3",
      "display_name": "Python 3"
    },
    "language_info": {
      "name": "python"
    }
  },
  "cells": [
    {
      "cell_type": "markdown",
      "metadata": {
        "id": "view-in-github",
        "colab_type": "text"
      },
      "source": [
        "<a href=\"https://colab.research.google.com/github/shreydan/hands-on-ML-book-practice/blob/main/chapter2/california_housing_prices_chapter2.ipynb\" target=\"_parent\"><img src=\"https://colab.research.google.com/assets/colab-badge.svg\" alt=\"Open In Colab\"/></a>"
      ]
    },
    {
      "cell_type": "markdown",
      "metadata": {
        "id": "90dPSFVTLDWR"
      },
      "source": [
        "A model to predict the median housing price in any district in California. \n",
        "\n",
        "To finally check if its worth investing in a given area or not"
      ]
    },
    {
      "cell_type": "markdown",
      "metadata": {
        "id": "Ix20V544LlqJ"
      },
      "source": [
        "objective:\n",
        "1. benefits from model\n",
        "2. use of the model\n",
        "3. selecting algorithm\n",
        "4. choosing performance measure\n",
        "5. effort to tweak it"
      ]
    },
    {
      "cell_type": "markdown",
      "metadata": {
        "id": "vk3PHx-KMHoi"
      },
      "source": [
        "### Supervised learning problem\n",
        "\n",
        "multivariate regression problem: since multiple features will be used to make a prediction\n",
        "\n",
        "--> only GDP per capita feature for now: univariate regression\n",
        "\n",
        "--> plain batch learning: no rapid data change, small size\n",
        "\n"
      ]
    },
    {
      "cell_type": "markdown",
      "metadata": {
        "id": "86V3e36SMrMn"
      },
      "source": [
        "### Performance Measure\n",
        "\n",
        "For regression problems:\n",
        "\n",
        "*ROOT MEAN SQUARE ERROR (RMSE)* is used --- measures standard deviation\n",
        "\n"
      ]
    },
    {
      "cell_type": "markdown",
      "metadata": {
        "id": "xTsylYdjNLsg"
      },
      "source": [
        "### DATA:\n",
        "\n",
        "X: array of feature values, each element is an array of features in one district\n",
        "\n",
        "\n",
        "feature values (X[i]) : label (Y[i])\n",
        "\n",
        "X[i]: row matrix of features in each district\n",
        "\n",
        "Y[i]: median house value"
      ]
    },
    {
      "cell_type": "markdown",
      "metadata": {
        "id": "esMc353YOQS_"
      },
      "source": [
        "predicted value y'(i) = h(x[i])\n",
        "\n",
        "prediction error for that district: y'[i] - y[i]\n",
        "\n",
        "function: h <-- model\n",
        "\n",
        "RMSE(X,h) -- cost function aka performance measure\n"
      ]
    },
    {
      "cell_type": "code",
      "metadata": {
        "id": "F2fGZrPoHJl2"
      },
      "source": [
        "import os\n",
        "import tarfile"
      ],
      "execution_count": 1,
      "outputs": []
    }
  ]
}